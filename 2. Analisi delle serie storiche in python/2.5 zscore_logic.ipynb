{
  "nbformat": 4,
  "nbformat_minor": 0,
  "metadata": {
    "colab": {
      "provenance": []
    },
    "kernelspec": {
      "name": "python3",
      "display_name": "Python 3"
    },
    "language_info": {
      "name": "python"
    }
  },
  "cells": [
    {
      "cell_type": "code",
      "execution_count": null,
      "metadata": {
        "id": "VwEY6Leumo9A"
      },
      "outputs": [],
      "source": [
        "def zscore_trade(self, zscore, event):\n",
        "     \"\"\"\n",
        "     Dato uno zscore negli input:\n",
        "     Se non siamo già a mercato valuterà se aprire una posizione\n",
        "     Se siamo già a mercato valuta se uscire dalla posizione.\n",
        "     \"\"\"\n",
        "     # Se non siamo a mercato\n",
        "     if self.invested is None:\n",
        "         if zscore < -self.entry_z:\n",
        "             # Entrata Long\n",
        "             print(\"LONG: %s\" % event.time)\n",
        "             self.go_long_units()\n",
        "             self.invested = \"long\"\n",
        "         elif zscore > self.entry_z:\n",
        "             # Entrata Short\n",
        "             print(\"SHORT: %s\" % event.time)\n",
        "             self.go_short_units()\n",
        "             self.invested = \"short\"\n",
        "     # Se siamo a mercato\n",
        "     if self.invested is not None:\n",
        "         if self.invested == \"long\" and zscore >= -self.exit_z:\n",
        "             print(\"CLOSING LONG: %s\" % event.time)\n",
        "             self.go_short_units()\n",
        "             self.invested = None\n",
        "         elif self.invested == \"short\" and zscore <= self.exit_z:\n",
        "             print(\"CLOSING SHORT: %s\" % event.time)\n",
        "             self.go_long_units()\n",
        "             self.invested = None"
      ]
    }
  ]
}