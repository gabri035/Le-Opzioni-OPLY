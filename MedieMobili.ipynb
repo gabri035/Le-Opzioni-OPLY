{
  "nbformat": 4,
  "nbformat_minor": 0,
  "metadata": {
    "colab": {
      "provenance": []
    },
    "kernelspec": {
      "name": "python3",
      "display_name": "Python 3"
    },
    "language_info": {
      "name": "python"
    }
  },
  "cells": [
    {
      "cell_type": "code",
      "execution_count": null,
      "metadata": {
        "id": "8-veNQRiRIUQ"
      },
      "outputs": [],
      "source": [
        "import yfinance as yf\n",
        "import pandas as pd\n",
        "import matplotlib.pyplot as plt\n",
        "from datetime import datetime, timedelta\n",
        "\n",
        "end_date = datetime.now()\n",
        "start_date = \"2024-01-01\"\n",
        "data = yf.download('AAPL', start=start_date, period=\"1d\")\n",
        "close_prices = data['Close']\n"
      ]
    },
    {
      "cell_type": "code",
      "source": [
        "### -------------------------------------------- MOVING AVERAGE\n",
        "\n",
        "# Calcola la media mobile a 20 periodi (media a breve)\n",
        "media_breve = close_prices.rolling(window=20).mean()\n",
        "\n",
        "# Calcola la media mobile a 50 periodi (media a lunga)\n",
        "media_lunga = close_prices.rolling(window=50).mean()\n",
        "\n",
        "# Plot dei dati\n",
        "plt.figure(figsize=(10, 4))\n",
        "plt.plot(close_prices, label='AAPL', color='blue')\n",
        "plt.plot(media_breve, label='Media a breve (20 periodi)', color='orange')\n",
        "plt.plot(media_lunga, label='Media a lunga (50 periodi)', color='green')\n",
        "plt.title('Prezzi di Chiusura AAPL e Medie Mobili (Ultimo Anno)')\n",
        "plt.xlabel('Data')\n",
        "plt.ylabel('Prezzo ($)')\n",
        "plt.legend()\n",
        "plt.grid(True)\n",
        "plt.show()"
      ],
      "metadata": {
        "colab": {
          "base_uri": "https://localhost:8080/",
          "height": 211
        },
        "id": "hH98SvgVUUkN",
        "outputId": "9b9d55e1-14ea-4d42-ee64-7b89885ab86b"
      },
      "execution_count": null,
      "outputs": [
        {
          "output_type": "error",
          "ename": "NameError",
          "evalue": "name 'close_prices' is not defined",
          "traceback": [
            "\u001b[0;31m---------------------------------------------------------------------------\u001b[0m",
            "\u001b[0;31mNameError\u001b[0m                                 Traceback (most recent call last)",
            "\u001b[0;32m<ipython-input-1-ef84aa709956>\u001b[0m in \u001b[0;36m<cell line: 0>\u001b[0;34m()\u001b[0m\n\u001b[1;32m      2\u001b[0m \u001b[0;34m\u001b[0m\u001b[0m\n\u001b[1;32m      3\u001b[0m \u001b[0;31m# Calcola la media mobile a 20 periodi (media a breve)\u001b[0m\u001b[0;34m\u001b[0m\u001b[0;34m\u001b[0m\u001b[0m\n\u001b[0;32m----> 4\u001b[0;31m \u001b[0mmedia_breve\u001b[0m \u001b[0;34m=\u001b[0m \u001b[0mclose_prices\u001b[0m\u001b[0;34m.\u001b[0m\u001b[0mrolling\u001b[0m\u001b[0;34m(\u001b[0m\u001b[0mwindow\u001b[0m\u001b[0;34m=\u001b[0m\u001b[0;36m20\u001b[0m\u001b[0;34m)\u001b[0m\u001b[0;34m.\u001b[0m\u001b[0mmean\u001b[0m\u001b[0;34m(\u001b[0m\u001b[0;34m)\u001b[0m\u001b[0;34m\u001b[0m\u001b[0;34m\u001b[0m\u001b[0m\n\u001b[0m\u001b[1;32m      5\u001b[0m \u001b[0;34m\u001b[0m\u001b[0m\n\u001b[1;32m      6\u001b[0m \u001b[0;31m# Calcola la media mobile a 50 periodi (media a lunga)\u001b[0m\u001b[0;34m\u001b[0m\u001b[0;34m\u001b[0m\u001b[0m\n",
            "\u001b[0;31mNameError\u001b[0m: name 'close_prices' is not defined"
          ]
        }
      ]
    },
    {
      "cell_type": "code",
      "source": [],
      "metadata": {
        "id": "nKPOKMsqUkiM"
      },
      "execution_count": null,
      "outputs": []
    }
  ]
}