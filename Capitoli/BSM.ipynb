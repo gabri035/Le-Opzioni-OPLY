{
  "nbformat": 4,
  "nbformat_minor": 0,
  "metadata": {
    "colab": {
      "provenance": []
    },
    "kernelspec": {
      "name": "python3",
      "display_name": "Python 3"
    },
    "language_info": {
      "name": "python"
    }
  },
  "cells": [
    {
      "cell_type": "code",
      "execution_count": null,
      "metadata": {
        "colab": {
          "base_uri": "https://localhost:8080/"
        },
        "id": "8UpL7jkSKHJu",
        "outputId": "4b3b26d7-7bce-4fec-efb9-12d7c69271fc"
      },
      "outputs": [
        {
          "output_type": "stream",
          "name": "stdout",
          "text": [
            "Collecting blackscholes\n",
            "  Downloading blackscholes-0.2.0-py3-none-any.whl.metadata (3.6 kB)\n",
            "Downloading blackscholes-0.2.0-py3-none-any.whl (16 kB)\n",
            "Installing collected packages: blackscholes\n",
            "Successfully installed blackscholes-0.2.0\n"
          ]
        }
      ],
      "source": [
        "###-------------  METODO 2\n",
        "\n",
        "!pip install blackscholes\n",
        "from blackscholes import BlackScholesCall, BlackScholesPut\n",
        "\n",
        "def pricing_opzioni_europee_div(S, K, T, r, sigma, q):\n",
        "    \"\"\"\n",
        "    Questa funzione calcolera automaticamente il prezzo di un'opzione call o\n",
        "    put europea in base ai parametri specificati.\n",
        "\n",
        "    Parameters:\n",
        "    S : valore corrente.\n",
        "    K : strike price.\n",
        "    T : tempo a scadenza (in anni).\n",
        "    r : tasso di interesse (annualizzato).\n",
        "    q : tasso atteso di dividendi (annual dividend yield).\n",
        "    sigma : volatilità ovvero dev.st. (annualizzata).\n",
        "    \"\"\"\n",
        "    # inizializza le funzioni\n",
        "    call_option = BlackScholesCall(S=S, K=K, T=T, r=r, sigma=sigma, q=q)\n",
        "    put_option = BlackScholesPut(S=S, K=K, T=T, r=r, sigma=sigma, q=q)\n",
        "\n",
        "    # calcola i prezzi\n",
        "    call_price = call_option.price()\n",
        "    put_price = put_option.price()\n",
        "\n",
        "    # restituisce i due prezzi\n",
        "    return call_price, put_price\n"
      ]
    },
    {
      "cell_type": "code",
      "source": [
        "###-------------  METODO 1\n",
        "\n",
        "#installiamo e richiamiamo le nostre librerie\n",
        "\n",
        "import numpy as np\n",
        "from scipy.stats import norm\n",
        "\n",
        "def pricing_opzioni_europee(r,S,K,T,var, type=\"c\"):\n",
        "\n",
        "  # vengono calcolati i valori d1 e d2\n",
        "  d1 = (np.log(S/K) + (r + var**2/2)*T)/(var * np.sqrt(T))\n",
        "  d2 = d1 - var * np.sqrt(T)\n",
        "\n",
        "  # applichiamo la formula di BSM in base alla type\n",
        "  if type == \"c\":\n",
        "     price = S * norm.cdf(d1,0,1) - K * np.exp(-r*T) * norm.cdf(d2,0,1)\n",
        "  elif type == \"p\":\n",
        "     price = K * np.exp(-r*T) * norm.cdf(-d2,0,1) - S * norm.cdf(-d1,0,1)\n",
        "  return price\n"
      ],
      "metadata": {
        "id": "-fCQFDS1M0CU"
      },
      "execution_count": null,
      "outputs": []
    },
    {
      "cell_type": "code",
      "source": [
        "dev=0.35\n",
        "T=30/252\n",
        "r=0.025\n",
        "K=220\n",
        "S=236.02\n",
        "\n",
        "\n",
        "\n",
        "P=pricing_opzioni_europee(r,S,K,T,dev, type=\"p\")\n",
        "print(\"Put Price: {:.6f}\".format(P))\n",
        "\n"
      ],
      "metadata": {
        "id": "Sk7ufDkoQPhh",
        "colab": {
          "base_uri": "https://localhost:8080/"
        },
        "outputId": "70916267-dfdc-4767-8d4a-d0b38b9f2e4c"
      },
      "execution_count": null,
      "outputs": [
        {
          "output_type": "stream",
          "name": "stdout",
          "text": [
            "Put Price: 4.579858\n"
          ]
        }
      ]
    }
  ]
}