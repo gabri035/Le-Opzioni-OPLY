{
  "cells": [
    {
      "cell_type": "markdown",
      "metadata": {
        "colab_type": "text",
        "id": "view-in-github"
      },
      "source": [
        "<a href=\"https://colab.research.google.com/github/gabri035/TESI_GATTO_GABRIELE/blob/main/Opzioni_Intro.ipynb\" target=\"_parent\"><img src=\"https://colab.research.google.com/assets/colab-badge.svg\" alt=\"Open In Colab\"/></a>"
      ]
    },
    {
      "cell_type": "code",
      "execution_count": 10,
      "metadata": {
        "colab": {
          "base_uri": "https://localhost:8080/",
          "height": 569
        },
        "id": "oY6DyGyxHcBW",
        "outputId": "fc13b0d3-fed3-4d69-9f31-437b024974fc"
      },
      "outputs": [
        {
          "ename": "ModuleNotFoundError",
          "evalue": "No module named 'numpy'",
          "output_type": "error",
          "traceback": [
            "\u001b[1;31m---------------------------------------------------------------------------\u001b[0m",
            "\u001b[1;31mModuleNotFoundError\u001b[0m                       Traceback (most recent call last)",
            "Cell \u001b[1;32mIn[10], line 1\u001b[0m\n\u001b[1;32m----> 1\u001b[0m \u001b[38;5;28;01mimport\u001b[39;00m\u001b[38;5;250m \u001b[39m\u001b[38;5;21;01mnumpy\u001b[39;00m\u001b[38;5;250m \u001b[39m\u001b[38;5;28;01mas\u001b[39;00m\u001b[38;5;250m \u001b[39m\u001b[38;5;21;01mnp\u001b[39;00m\n\u001b[0;32m      2\u001b[0m \u001b[38;5;28;01mimport\u001b[39;00m\u001b[38;5;250m \u001b[39m\u001b[38;5;21;01mmatplotlib\u001b[39;00m\u001b[38;5;21;01m.\u001b[39;00m\u001b[38;5;21;01mpyplot\u001b[39;00m\u001b[38;5;250m \u001b[39m\u001b[38;5;28;01mas\u001b[39;00m\u001b[38;5;250m \u001b[39m\u001b[38;5;21;01mplt\u001b[39;00m\n\u001b[0;32m      4\u001b[0m \u001b[38;5;66;03m# Dati\u001b[39;00m\n",
            "\u001b[1;31mModuleNotFoundError\u001b[0m: No module named 'numpy'"
          ]
        }
      ],
      "source": [
        "import numpy as np\n",
        "import matplotlib.pyplot as plt\n",
        "\n",
        "# Dati\n",
        "strike = 5\n",
        "prezzo_opzione = 1  # Prezzo dell'opzione (premio totale dell'opzione)\n",
        "k = 0.1  # Costante che determina la \"pendenza\" della parabola\n",
        "\n",
        "# Prezzi sottostanti per il grafico\n",
        "sottostanti = np.linspace(0, 10, 100)\n",
        "\n",
        "# Calcolo del valore intrinseco (linea blu)\n",
        "valore_intrinseco = np.maximum(sottostanti - strike, 0)\n",
        "\n",
        "# Calcolo del valore temporale (curva gialla centrata sullo strike)\n",
        "valore_temporale = 0.2 + 0.05 * (sottostanti)**2\n",
        "\n",
        "# Creazione del grafico\n",
        "plt.figure(figsize=(10, 6))\n",
        "\n",
        "# Traccia il valore intrinseco (linea blu)\n",
        "plt.plot(sottostanti, valore_intrinseco, label=\"Valore Intrinseco\", color='blue', linewidth=2)\n",
        "\n",
        "# Traccia il valore temporale (curva gialla centrata sullo strike)\n",
        "plt.plot(sottostanti, valore_temporale, label=\"Valore Temporale\", color='orange', linewidth=2)\n",
        "\n",
        "# Etichette e titolo\n",
        "plt.title('Valore Intrinseco e Temporale di un\\'Opzione Call', fontsize=14)\n",
        "plt.xlabel('Prezzo del Sottostante', fontsize=12)\n",
        "plt.ylabel('Valore dell\\'Opzione', fontsize=12)\n",
        "\n",
        "# Aggiungi una legenda\n",
        "plt.legend()\n",
        "\n",
        "# Mostra il grafico\n",
        "plt.grid(True)\n",
        "plt.show()\n",
        "\n"
      ]
    },
    {
      "cell_type": "code",
      "execution_count": null,
      "metadata": {
        "colab": {
          "base_uri": "https://localhost:8080/",
          "height": 569
        },
        "id": "k-Ox3p09KPL-",
        "outputId": "1f2d5593-0157-4e86-c59f-93ab128aba29"
      },
      "outputs": [
        {
          "ename": "ModuleNotFoundError",
          "evalue": "No module named 'numpy'",
          "output_type": "error",
          "traceback": [
            "\u001b[1;31m---------------------------------------------------------------------------\u001b[0m",
            "\u001b[1;31mModuleNotFoundError\u001b[0m                       Traceback (most recent call last)",
            "Cell \u001b[1;32mIn[7], line 1\u001b[0m\n\u001b[1;32m----> 1\u001b[0m \u001b[38;5;28;01mimport\u001b[39;00m\u001b[38;5;250m \u001b[39m\u001b[38;5;21;01mnumpy\u001b[39;00m\u001b[38;5;250m \u001b[39m\u001b[38;5;28;01mas\u001b[39;00m\u001b[38;5;250m \u001b[39m\u001b[38;5;21;01mnp\u001b[39;00m\n\u001b[0;32m      2\u001b[0m \u001b[38;5;28;01mimport\u001b[39;00m\u001b[38;5;250m \u001b[39m\u001b[38;5;21;01mmatplotlib\u001b[39;00m\u001b[38;5;21;01m.\u001b[39;00m\u001b[38;5;21;01mpyplot\u001b[39;00m\u001b[38;5;250m \u001b[39m\u001b[38;5;28;01mas\u001b[39;00m\u001b[38;5;250m \u001b[39m\u001b[38;5;21;01mplt\u001b[39;00m\n\u001b[0;32m      4\u001b[0m \u001b[38;5;66;03m# Dati di input\u001b[39;00m\n",
            "\u001b[1;31mModuleNotFoundError\u001b[0m: No module named 'numpy'"
          ]
        }
      ],
      "source": [
        "import numpy as np\n",
        "import matplotlib.pyplot as plt\n",
        "\n",
        "# Dati di input\n",
        "prezzo_sottostante = 5  # Prezzo corrente del sottostante\n",
        "strike_price = 7  # Strike price dell'opzione call\n",
        "premium_call = 7  # Premio ricevuto dalla vendita della call\n",
        "\n",
        "# Range di prezzi del sottostante (P_T)\n",
        "P_T = np.linspace(0, 15, 500)\n",
        "\n",
        "# Payoff dell'acquisto del sottostante (P_T - 5)\n",
        "payoff_sottostante = P_T - prezzo_sottostante\n",
        "\n",
        "# Payoff della vendita della call (-max(P_T - strike_price, 0) + 7)\n",
        "payoff_call = -np.maximum(P_T - strike_price, 0) + premium_call\n",
        "\n",
        "# Payoff totale della strategia (somma dei due payoff)\n",
        "payoff_totale = payoff_sottostante + payoff_call\n",
        "\n",
        "# Creazione del grafico\n",
        "plt.figure(figsize=(10, 6))\n",
        "\n",
        "# Grafico dei payoff separati\n",
        "plt.plot(P_T, payoff_sottostante, label=\"Payoff Acquisto Sottostante\", color='g', linestyle='--')\n",
        "plt.plot(P_T, payoff_call, label=\"Payoff Vendita Call\", color='r', linestyle='--')\n",
        "\n",
        "# Grafico del payoff totale\n",
        "plt.plot(P_T, payoff_totale, label=\"Payoff Totale (Strategia)\", color='b', linewidth=2)\n",
        "\n",
        "# Linea orizzontale a zero\n",
        "plt.axhline(y=0, color='k', linestyle='-', linewidth=1)\n",
        "\n",
        "# Titoli e etichette\n",
        "plt.title(\"Grafico del Payoff della Strategia: Vendita Call + Acquisto Sottostante\", fontsize=14)\n",
        "plt.xlabel(\"Prezzo del Sottostante (P_T)\", fontsize=12)\n",
        "plt.ylabel(\"Payoff\", fontsize=12)\n",
        "plt.legend()\n",
        "\n",
        "# Mostra il grafico\n",
        "plt.grid(True)\n",
        "plt.show()\n"
      ]
    },
    {
      "cell_type": "code",
      "execution_count": null,
      "metadata": {
        "colab": {
          "base_uri": "https://localhost:8080/",
          "height": 569
        },
        "id": "D0O-fHMvxND8",
        "outputId": "f63dadd7-1427-463e-d309-687d1ac14a9f"
      },
      "outputs": [
        {
          "ename": "ModuleNotFoundError",
          "evalue": "No module named 'numpy'",
          "output_type": "error",
          "traceback": [
            "\u001b[1;31m---------------------------------------------------------------------------\u001b[0m",
            "\u001b[1;31mModuleNotFoundError\u001b[0m                       Traceback (most recent call last)",
            "Cell \u001b[1;32mIn[8], line 1\u001b[0m\n\u001b[1;32m----> 1\u001b[0m \u001b[38;5;28;01mimport\u001b[39;00m\u001b[38;5;250m \u001b[39m\u001b[38;5;21;01mnumpy\u001b[39;00m\u001b[38;5;250m \u001b[39m\u001b[38;5;28;01mas\u001b[39;00m\u001b[38;5;250m \u001b[39m\u001b[38;5;21;01mnp\u001b[39;00m\n\u001b[0;32m      2\u001b[0m \u001b[38;5;28;01mimport\u001b[39;00m\u001b[38;5;250m \u001b[39m\u001b[38;5;21;01mmatplotlib\u001b[39;00m\u001b[38;5;21;01m.\u001b[39;00m\u001b[38;5;21;01mpyplot\u001b[39;00m\u001b[38;5;250m \u001b[39m\u001b[38;5;28;01mas\u001b[39;00m\u001b[38;5;250m \u001b[39m\u001b[38;5;21;01mplt\u001b[39;00m\n\u001b[0;32m      4\u001b[0m \u001b[38;5;66;03m# Dati di input\u001b[39;00m\n",
            "\u001b[1;31mModuleNotFoundError\u001b[0m: No module named 'numpy'"
          ]
        }
      ],
      "source": [
        "import numpy as np\n",
        "import matplotlib.pyplot as plt\n",
        "\n",
        "# Dati di input\n",
        "prezzo_sottostante = 5  # Prezzo corrente del sottostante\n",
        "strike_price_put = 5  # Strike price dell'opzione put (assunto pari al prezzo corrente del sottostante)\n",
        "premium_put = 2  # Premio pagato per l'acquisto della put\n",
        "\n",
        "# Range di prezzi del sottostante (P_T)\n",
        "P_T = np.linspace(0, 15, 500)\n",
        "\n",
        "# Payoff dell'acquisto del sottostante (P_T - 5)\n",
        "payoff_sottostante = P_T - prezzo_sottostante\n",
        "\n",
        "# Payoff dell'acquisto della put (max(5 - P_T, 0) - 2)\n",
        "payoff_put = np.maximum(strike_price_put - P_T, 0) - premium_put\n",
        "\n",
        "# Payoff totale della strategia (somma dei due payoff)\n",
        "payoff_totale = payoff_sottostante + payoff_put\n",
        "\n",
        "# Creazione del grafico\n",
        "plt.figure(figsize=(10, 6))\n",
        "\n",
        "# Grafico dei payoff separati\n",
        "plt.plot(P_T, payoff_sottostante, label=\"Payoff Acquisto Sottostante\", color='g', linestyle='--')\n",
        "plt.plot(P_T, payoff_put, label=\"Payoff Acquisto Put\", color='r', linestyle='--')\n",
        "\n",
        "# Grafico del payoff totale\n",
        "plt.plot(P_T, payoff_totale, label=\"Payoff Totale\", color='b', linewidth=2)\n",
        "\n",
        "# Linea di strike\n",
        "\n",
        "\n",
        "# Linea orizzontale a zero\n",
        "plt.axhline(y=0, color='k', linestyle='-', linewidth=1)\n",
        "\n",
        "# Titoli e etichette\n",
        "plt.title(\"Grafico del Payoff della Strategia: Acquisto Put + Acquisto Sottostante\", fontsize=14)\n",
        "plt.xlabel(\"Prezzo del Sottostante (P_T)\", fontsize=12)\n",
        "plt.ylabel(\"Payoff\", fontsize=12)\n",
        "plt.legend()\n",
        "\n",
        "# Mostra il grafico\n",
        "plt.grid(True)\n",
        "plt.show()\n"
      ]
    }
  ],
  "metadata": {
    "colab": {
      "authorship_tag": "ABX9TyPITRXwLBgmdiUo+7tcnHMK",
      "include_colab_link": true,
      "provenance": []
    },
    "kernelspec": {
      "display_name": ".venv",
      "language": "python",
      "name": "python3"
    },
    "language_info": {
      "codemirror_mode": {
        "name": "ipython",
        "version": 3
      },
      "file_extension": ".py",
      "mimetype": "text/x-python",
      "name": "python",
      "nbconvert_exporter": "python",
      "pygments_lexer": "ipython3",
      "version": "3.13.2"
    }
  },
  "nbformat": 4,
  "nbformat_minor": 0
}
