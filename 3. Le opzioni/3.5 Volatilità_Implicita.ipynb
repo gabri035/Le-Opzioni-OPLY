{
  "nbformat": 4,
  "nbformat_minor": 0,
  "metadata": {
    "colab": {
      "provenance": []
    },
    "kernelspec": {
      "name": "python3",
      "display_name": "Python 3"
    },
    "language_info": {
      "name": "python"
    }
  },
  "cells": [
    {
      "cell_type": "code",
      "execution_count": null,
      "metadata": {
        "id": "GS28z2vwv03P",
        "colab": {
          "base_uri": "https://localhost:8080/",
          "height": 176
        },
        "outputId": "2c2dc06d-eff2-46e1-aff2-dab2376faa80"
      },
      "outputs": [
        {
          "output_type": "error",
          "ename": "ValueError",
          "evalue": "Il calcolo della volatilità implicita non è convergente",
          "traceback": [
            "\u001b[0;31m---------------------------------------------------------------------------\u001b[0m",
            "\u001b[0;31mValueError\u001b[0m                                Traceback (most recent call last)",
            "\u001b[0;32m<ipython-input-4-9ed2b0b15975>\u001b[0m in \u001b[0;36m<cell line: 0>\u001b[0;34m()\u001b[0m\n\u001b[1;32m     34\u001b[0m     \u001b[0minitial_guess\u001b[0m \u001b[0;34m=\u001b[0m \u001b[0mnext_guess\u001b[0m\u001b[0;34m\u001b[0m\u001b[0;34m\u001b[0m\u001b[0m\n\u001b[1;32m     35\u001b[0m \u001b[0;34m\u001b[0m\u001b[0m\n\u001b[0;32m---> 36\u001b[0;31m \u001b[0;32mraise\u001b[0m \u001b[0mValueError\u001b[0m\u001b[0;34m(\u001b[0m\u001b[0;34m\"Il calcolo della volatilità implicita non è convergente\"\u001b[0m\u001b[0;34m)\u001b[0m\u001b[0;34m\u001b[0m\u001b[0;34m\u001b[0m\u001b[0m\n\u001b[0m",
            "\u001b[0;31mValueError\u001b[0m: Il calcolo della volatilità implicita non è convergente"
          ]
        }
      ],
      "source": [
        "import math\n",
        "import scipy.stats as stats\n",
        "\n",
        "def calculate_implied_volatility(option_price, strike_price, days_to_expiration, current_stock_price,\n",
        "                                 interest_rate, option_type='call', initial_guess=0.2, tolerance=1e-5, max_iterations=100):\n",
        "\n",
        "# Definire le costanti\n",
        "    sqrt_days_to_expiration = math.sqrt(days_to_expiration / 365.0)\n",
        "    d1 = (math.log(current_stock_price / strike_price) + ((interest_rate + 0.5 * initial_guess**2) * (days_to_expiration / 365.0))) / (initial_guess * sqrt_days_to_expiration)\n",
        "\n",
        "    if option_type == 'call':\n",
        "        option_price_function = current_stock_price * stats.norm.cdf(d1) - strike_price * math.exp(-interest_rate * (days_to_expiration / 365.0)) * stats.norm.cdf(d1 - initial_guess * sqrt_days_to_expiration)\n",
        "    elif option_type == 'put':\n",
        "        option_price_function = strike_price * math.exp(-interest_rate * (days_to_expiration / 365.0)) * stats.norm.cdf(-d1 + initial_guess * sqrt_days_to_expiration) - current_stock_price * stats.norm.cdf(-d1)\n",
        "\n",
        "    for i in range(max_iterations):\n",
        "        d1 = (math.log(current_stock_price / strike_price) + ((interest_rate + 0.5 * initial_guess**2) * (days_to_expiration / 365.0))) / (initial_guess * sqrt_days_to_expiration)\n",
        "        d2 = d1 - initial_guess * sqrt_days_to_expiration\n",
        "\n",
        "    if option_type == 'call':\n",
        "        option_price_theoretical = current_stock_price * stats.norm.cdf(d1) - strike_price * math.exp(-interest_rate * (days_to_expiration / 365.0)) * stats.norm.cdf(d2)\n",
        "    elif option_type == 'put':\n",
        "        option_price_theoretical = strike_price * math.exp(-interest_rate * (days_to_expiration / 365.0)) * stats.norm.cdf(-d2) - current_stock_price * stats.norm.cdf(-d1)\n",
        "\n",
        "    vega = current_stock_price * sqrt_days_to_expiration * stats.norm.pdf(d1)\n",
        "\n",
        "    # Calcolare la prossima ipotesi per la volatilità implicita\n",
        "    next_guess = initial_guess + (option_price - option_price_theoretical) / vega\n",
        "\n",
        "    # Controllare la convergenza\n",
        "    if abs(next_guess - initial_guess) < tolerance:\n",
        "        return next_guess\n",
        "\n",
        "    initial_guess = next_guess\n",
        "\n",
        "raise ValueError(\"Il calcolo della volatilità implicita non è convergente\")"
      ]
    }
  ]
}